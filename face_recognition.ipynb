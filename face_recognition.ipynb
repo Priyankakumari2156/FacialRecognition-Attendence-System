{
 "cells": [
  {
   "cell_type": "code",
   "execution_count": 1,
   "id": "e1b80db0",
   "metadata": {},
   "outputs": [
    {
     "name": "stdout",
     "output_type": "stream",
     "text": [
      "Defaulting to user installation because normal site-packages is not writeableNote: you may need to restart the kernel to use updated packages.\n",
      "\n",
      "Requirement already satisfied: cmake in c:\\users\\sachi\\appdata\\roaming\\python\\python311\\site-packages (3.27.9)\n"
     ]
    }
   ],
   "source": [
    "pip install cmake"
   ]
  },
  {
   "cell_type": "code",
   "execution_count": 2,
   "id": "44a9ee2d",
   "metadata": {},
   "outputs": [
    {
     "name": "stdout",
     "output_type": "stream",
     "text": [
      "Defaulting to user installation because normal site-packages is not writeable\n",
      "Requirement already satisfied: face_recognition in c:\\users\\sachi\\appdata\\roaming\\python\\python311\\site-packages (1.3.0)\n",
      "Requirement already satisfied: face-recognition-models>=0.3.0 in c:\\users\\sachi\\appdata\\roaming\\python\\python311\\site-packages (from face_recognition) (0.3.0)\n",
      "Requirement already satisfied: Click>=6.0 in c:\\programdata\\anaconda3\\lib\\site-packages (from face_recognition) (8.0.4)\n",
      "Requirement already satisfied: dlib>=19.7 in c:\\users\\sachi\\appdata\\roaming\\python\\python311\\site-packages (from face_recognition) (19.24.2)\n",
      "Requirement already satisfied: numpy in c:\\programdata\\anaconda3\\lib\\site-packages (from face_recognition) (1.24.3)\n",
      "Requirement already satisfied: Pillow in c:\\programdata\\anaconda3\\lib\\site-packages (from face_recognition) (9.4.0)\n",
      "Requirement already satisfied: colorama in c:\\programdata\\anaconda3\\lib\\site-packages (from Click>=6.0->face_recognition) (0.4.6)\n",
      "Note: you may need to restart the kernel to use updated packages.\n"
     ]
    }
   ],
   "source": [
    "pip install face_recognition"
   ]
  },
  {
   "cell_type": "code",
   "execution_count": 3,
   "id": "2d161944",
   "metadata": {},
   "outputs": [
    {
     "name": "stdout",
     "output_type": "stream",
     "text": [
      "Defaulting to user installation because normal site-packages is not writeable\n",
      "Requirement already satisfied: opencv-python in c:\\users\\sachi\\appdata\\roaming\\python\\python311\\site-packages (4.8.1.78)\n",
      "Requirement already satisfied: numpy>=1.21.2 in c:\\programdata\\anaconda3\\lib\\site-packages (from opencv-python) (1.24.3)\n",
      "Note: you may need to restart the kernel to use updated packages.\n"
     ]
    }
   ],
   "source": [
    "pip install opencv-python"
   ]
  },
  {
   "cell_type": "code",
   "execution_count": 4,
   "id": "456df86b",
   "metadata": {},
   "outputs": [
    {
     "name": "stdout",
     "output_type": "stream",
     "text": [
      "Defaulting to user installation because normal site-packages is not writeable\n",
      "Requirement already satisfied: numpy in c:\\programdata\\anaconda3\\lib\\site-packages (1.24.3)\n",
      "Note: you may need to restart the kernel to use updated packages.\n"
     ]
    }
   ],
   "source": [
    "pip install numpy"
   ]
  },
  {
   "cell_type": "code",
   "execution_count": 5,
   "id": "9fdccef1",
   "metadata": {},
   "outputs": [],
   "source": [
    "import face_recognition\n",
    "import cv2\n",
    "import numpy as np\n",
    "import csv\n",
    "from datetime import datetime"
   ]
  },
  {
   "cell_type": "code",
   "execution_count": null,
   "id": "07eb8f2c",
   "metadata": {},
   "outputs": [],
   "source": [
    "video_capture = cv2.VideoCapture(0)\n",
    "\n",
    "# Load known faces\n",
    "sachin_img = face_recognition.load_image_file(\"faces/sachin.jpg\")\n",
    "sachin_encoding = face_recognition.face_encodings(sachin_img)[0]\n",
    "\n",
    "raj_img = face_recognition.load_image_file(\"faces/raj.jpg\")\n",
    "raj_encoding = face_recognition.face_encodings(raj_img)[0]\n",
    "\n",
    "minal_img = face_recognition.load_image_file(\"faces/minal.jpeg\")\n",
    "minal_encoding = face_recognition.face_encodings(minal_img)[0]\n",
    "\n",
    "known_face_encodings = [sachin_encoding, raj_encoding, minal_encoding]\n",
    "# known_face_names = [sachin_img, raj_img, minal_img]\n",
    "known_face_names = [\"Sachin\", \"Raj\", \"Minal\"]\n",
    "\n",
    "\n",
    "# List of expected students\n",
    "students = known_face_names.copy()\n",
    "face_locations = []\n",
    "face_encoding = []\n",
    "\n",
    "# Get the current date and time\n",
    "now = datetime.now()\n",
    "current_date = now.strftime(\"%Y-%m-%d\")\n",
    "\n",
    "f = open(f\"{current_date}.csv\", \"w+\", newline=\"\")\n",
    "lnwriter = csv.writer(f)\n",
    "\n",
    "while True:\n",
    "    _, frame = video_capture.read()\n",
    "    small_frame = cv2.resize(frame, (0, 0), fx=0.25, fy=0.25)\n",
    "#     rgb_small_frame = cv2.cvtColor(small_frame, cv2.COLOR_BGR2GRAY)\n",
    "    rgb_small_frame = cv2.cvtColor(small_frame, cv2.COLOR_BGR2RGB)\n",
    "\n",
    "\n",
    "    # Recognize face\n",
    "    face_locations = face_recognition.face_locations(rgb_small_frame)\n",
    "    face_encodings = face_recognition.face_encodings(rgb_small_frame, face_locations)\n",
    "\n",
    "    for face_encoding in face_encodings:\n",
    "        matches = face_recognition.compare_faces(known_face_encodings, face_encoding)\n",
    "        face_distance = face_recognition.face_distance(known_face_encodings, face_encoding)\n",
    "        best_match_index = np.argmin(face_distance)\n",
    "\n",
    "        if matches[best_match_index]:\n",
    "            name = known_face_names[best_match_index]\n",
    "\n",
    "        # Add the text if a person is present\n",
    "        if name in known_face_names:\n",
    "            font = cv2.FONT_HERSHEY_SIMPLEX\n",
    "            bottomLeftCornerOfText = (10, 100)\n",
    "            fontScale = 1.5\n",
    "            fontColor = (255, 0, 0)\n",
    "            thickness = 3\n",
    "            lineType = 2\n",
    "            cv2.putText(frame, name+\" Present\", bottomLeftCornerOfText, font, fontScale, fontColor, thickness, lineType)\n",
    "\n",
    "            if name in students:\n",
    "                students.remove(name)\n",
    "                current_time = now.strftime(\"%H-%M:%S\")\n",
    "                lnwriter.writerow([name, current_time])\n",
    "\n",
    "        cv2.imshow(\"Attendence \", frame)\n",
    "        k = cv2.waitKey(1)\n",
    "        if k == ord('q'):\n",
    "            break\n",
    "video_capture.release()\n",
    "cv2.destroyWindow()\n"
   ]
  },
  {
   "cell_type": "code",
   "execution_count": null,
   "id": "a40dcb23",
   "metadata": {},
   "outputs": [],
   "source": []
  }
 ],
 "metadata": {
  "kernelspec": {
   "display_name": "Python 3 (ipykernel)",
   "language": "python",
   "name": "python3"
  },
  "language_info": {
   "codemirror_mode": {
    "name": "ipython",
    "version": 3
   },
   "file_extension": ".py",
   "mimetype": "text/x-python",
   "name": "python",
   "nbconvert_exporter": "python",
   "pygments_lexer": "ipython3",
   "version": "3.11.5"
  }
 },
 "nbformat": 4,
 "nbformat_minor": 5
}
